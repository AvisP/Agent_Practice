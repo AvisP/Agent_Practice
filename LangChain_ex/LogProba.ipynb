{
 "cells": [
  {
   "cell_type": "code",
   "execution_count": 1,
   "id": "6270a621-8de0-4f45-84b1-4d23fc1546bf",
   "metadata": {},
   "outputs": [],
   "source": [
    "from langchain_openai import ChatOpenAI\n",
    "from dotenv import load_dotenv"
   ]
  },
  {
   "cell_type": "code",
   "execution_count": 2,
   "id": "b4e370e6-405d-42ad-86ee-8ec4f961767b",
   "metadata": {},
   "outputs": [
    {
     "data": {
      "text/plain": [
       "True"
      ]
     },
     "execution_count": 2,
     "metadata": {},
     "output_type": "execute_result"
    }
   ],
   "source": [
    "load_dotenv()"
   ]
  },
  {
   "cell_type": "code",
   "execution_count": 3,
   "id": "7151dcad-42bb-4f05-89f0-a1a2c0cd5d6b",
   "metadata": {},
   "outputs": [
    {
     "data": {
      "text/plain": [
       "[{'token': \"I'm\",\n",
       "  'bytes': [73, 39, 109],\n",
       "  'logprob': -0.048639144748449326,\n",
       "  'top_logprobs': []},\n",
       " {'token': ' just',\n",
       "  'bytes': [32, 106, 117, 115, 116],\n",
       "  'logprob': -0.045797910541296005,\n",
       "  'top_logprobs': []},\n",
       " {'token': ' a',\n",
       "  'bytes': [32, 97],\n",
       "  'logprob': -0.00014525714504998177,\n",
       "  'top_logprobs': []},\n",
       " {'token': ' program',\n",
       "  'bytes': [32, 112, 114, 111, 103, 114, 97, 109],\n",
       "  'logprob': -0.9783586263656616,\n",
       "  'top_logprobs': []},\n",
       " {'token': ',',\n",
       "  'bytes': [44],\n",
       "  'logprob': -1.6047699318733066e-05,\n",
       "  'top_logprobs': []}]"
      ]
     },
     "execution_count": 3,
     "metadata": {},
     "output_type": "execute_result"
    }
   ],
   "source": [
    "llm = ChatOpenAI(model=\"gpt-4o-mini\").bind(logprobs=True)\n",
    "\n",
    "msg = llm.invoke((\"human\", \"how are you today\"))\n",
    "\n",
    "msg.response_metadata[\"logprobs\"][\"content\"][:5]"
   ]
  },
  {
   "cell_type": "code",
   "execution_count": null,
   "id": "12d237d2-6c35-459c-b797-c14c6a6cafae",
   "metadata": {},
   "outputs": [],
   "source": []
  }
 ],
 "metadata": {
  "kernelspec": {
   "display_name": "Python 3 (ipykernel)",
   "language": "python",
   "name": "python3"
  },
  "language_info": {
   "codemirror_mode": {
    "name": "ipython",
    "version": 3
   },
   "file_extension": ".py",
   "mimetype": "text/x-python",
   "name": "python",
   "nbconvert_exporter": "python",
   "pygments_lexer": "ipython3",
   "version": "3.10.11"
  }
 },
 "nbformat": 4,
 "nbformat_minor": 5
}
